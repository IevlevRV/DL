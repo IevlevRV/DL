{
 "cells": [
  {
   "cell_type": "code",
   "execution_count": 4,
   "metadata": {},
   "outputs": [
    {
     "name": "stderr",
     "output_type": "stream",
     "text": [
      "[nltk_data] Downloading package punkt to\n",
      "[nltk_data]     C:\\Users\\roma0\\AppData\\Roaming\\nltk_data...\n",
      "[nltk_data]   Package punkt is already up-to-date!\n"
     ]
    },
    {
     "data": {
      "text/plain": [
       "True"
      ]
     },
     "execution_count": 4,
     "metadata": {},
     "output_type": "execute_result"
    }
   ],
   "source": [
    "import torch\n",
    "import torch.nn as nn\n",
    "from torch.utils.data import Dataset, DataLoader\n",
    "\n",
    "import numpy as np\n",
    "import matplotlib.pyplot as plt\n",
    "\n",
    "from tqdm.auto import tqdm\n",
    "from nltk.tokenize import word_tokenize\n",
    "from sklearn.model_selection import train_test_split\n",
    "import nltk\n",
    "from tqdm import tqdm_notebook\n",
    "import torch.nn as nn                                                             \n",
    "import torch.nn.functional as F\n",
    "\n",
    "from collections import Counter\n",
    "from typing import List\n",
    "import string\n",
    "\n",
    "import seaborn\n",
    "seaborn.set(palette='summer')\n",
    "\n",
    "nltk.download('punkt')"
   ]
  },
  {
   "cell_type": "code",
   "execution_count": 5,
   "metadata": {},
   "outputs": [
    {
     "data": {
      "text/plain": [
       "'cpu'"
      ]
     },
     "execution_count": 5,
     "metadata": {},
     "output_type": "execute_result"
    }
   ],
   "source": [
    "device = 'cuda' if torch.cuda.is_available() else 'cpu'\n",
    "device"
   ]
  },
  {
   "cell_type": "code",
   "execution_count": 8,
   "metadata": {},
   "outputs": [
    {
     "data": {
      "text/html": [
       "<div>\n",
       "<style scoped>\n",
       "    .dataframe tbody tr th:only-of-type {\n",
       "        vertical-align: middle;\n",
       "    }\n",
       "\n",
       "    .dataframe tbody tr th {\n",
       "        vertical-align: top;\n",
       "    }\n",
       "\n",
       "    .dataframe thead th {\n",
       "        text-align: right;\n",
       "    }\n",
       "</style>\n",
       "<table border=\"1\" class=\"dataframe\">\n",
       "  <thead>\n",
       "    <tr style=\"text-align: right;\">\n",
       "      <th></th>\n",
       "      <th>text</th>\n",
       "      <th>label</th>\n",
       "    </tr>\n",
       "  </thead>\n",
       "  <tbody>\n",
       "    <tr>\n",
       "      <th>0</th>\n",
       "      <td>-Да, я поторопился. Капитан, примите мои извин...</td>\n",
       "      <td>Pratchett</td>\n",
       "    </tr>\n",
       "    <tr>\n",
       "      <th>1</th>\n",
       "      <td>-Похороны по первому разряду! Довольно благоро...</td>\n",
       "      <td>Remark</td>\n",
       "    </tr>\n",
       "    <tr>\n",
       "      <th>2</th>\n",
       "      <td>Третий округ штата Мэн настолько велик, что ег...</td>\n",
       "      <td>King</td>\n",
       "    </tr>\n",
       "    <tr>\n",
       "      <th>3</th>\n",
       "      <td>В мире существуют миллиарды и миллиарды богов....</td>\n",
       "      <td>Pratchett</td>\n",
       "    </tr>\n",
       "    <tr>\n",
       "      <th>4</th>\n",
       "      <td>Особенность историографии киевского периода со...</td>\n",
       "      <td>Akunin</td>\n",
       "    </tr>\n",
       "  </tbody>\n",
       "</table>\n",
       "</div>"
      ],
      "text/plain": [
       "                                                text      label\n",
       "0  -Да, я поторопился. Капитан, примите мои извин...  Pratchett\n",
       "1  -Похороны по первому разряду! Довольно благоро...     Remark\n",
       "2  Третий округ штата Мэн настолько велик, что ег...       King\n",
       "3  В мире существуют миллиарды и миллиарды богов....  Pratchett\n",
       "4  Особенность историографии киевского периода со...     Akunin"
      ]
     },
     "execution_count": 8,
     "metadata": {},
     "output_type": "execute_result"
    }
   ],
   "source": [
    "import pandas as pd\n",
    "train_data = pd.read_csv('https://raw.githubusercontent.com/MSUcourses/Data-Analysis-with-Python/main/Deep%20Learning/Files/train_authors.csv')\n",
    "train_data.head()"
   ]
  },
  {
   "cell_type": "code",
   "execution_count": 9,
   "metadata": {},
   "outputs": [
    {
     "data": {
      "text/html": [
       "<div>\n",
       "<style scoped>\n",
       "    .dataframe tbody tr th:only-of-type {\n",
       "        vertical-align: middle;\n",
       "    }\n",
       "\n",
       "    .dataframe tbody tr th {\n",
       "        vertical-align: top;\n",
       "    }\n",
       "\n",
       "    .dataframe thead th {\n",
       "        text-align: right;\n",
       "    }\n",
       "</style>\n",
       "<table border=\"1\" class=\"dataframe\">\n",
       "  <thead>\n",
       "    <tr style=\"text-align: right;\">\n",
       "      <th></th>\n",
       "      <th>text</th>\n",
       "    </tr>\n",
       "  </thead>\n",
       "  <tbody>\n",
       "    <tr>\n",
       "      <th>0</th>\n",
       "      <td>-Да, я поторопился. Капитан, примите мои извин...</td>\n",
       "    </tr>\n",
       "    <tr>\n",
       "      <th>1</th>\n",
       "      <td>-Похороны по первому разряду! Довольно благоро...</td>\n",
       "    </tr>\n",
       "    <tr>\n",
       "      <th>2</th>\n",
       "      <td>Третий округ штата Мэн настолько велик, что ег...</td>\n",
       "    </tr>\n",
       "    <tr>\n",
       "      <th>3</th>\n",
       "      <td>В мире существуют миллиарды и миллиарды богов....</td>\n",
       "    </tr>\n",
       "    <tr>\n",
       "      <th>4</th>\n",
       "      <td>Особенность историографии киевского периода со...</td>\n",
       "    </tr>\n",
       "  </tbody>\n",
       "</table>\n",
       "</div>"
      ],
      "text/plain": [
       "                                                text\n",
       "0  -Да, я поторопился. Капитан, примите мои извин...\n",
       "1  -Похороны по первому разряду! Довольно благоро...\n",
       "2  Третий округ штата Мэн настолько велик, что ег...\n",
       "3  В мире существуют миллиарды и миллиарды богов....\n",
       "4  Особенность историографии киевского периода со..."
      ]
     },
     "execution_count": 9,
     "metadata": {},
     "output_type": "execute_result"
    }
   ],
   "source": [
    "test_data = pd.read_csv('https://raw.githubusercontent.com/MSUcourses/Data-Analysis-with-Python/main/Deep%20Learning/Files/test_authors.csv')\n",
    "test_data.head()"
   ]
  },
  {
   "cell_type": "code",
   "execution_count": 10,
   "metadata": {},
   "outputs": [],
   "source": [
    "writers = ['Akunin', 'Bulychev', 'Chehov', 'Dostoevsky', 'Gogol', 'King',\n",
    "       'Pratchett', 'Remark']\n",
    "writers_to_label = {writer: i for i, writer in enumerate(writers)}\n",
    "label_to_writers = {i: writer for i, writer in enumerate(writers)}"
   ]
  },
  {
   "cell_type": "code",
   "execution_count": 11,
   "metadata": {},
   "outputs": [],
   "source": [
    "dataset = {}\n",
    "\n",
    "dataset['train'] = [{'text':text, 'label':writers_to_label[label]} \\\n",
    "              for text, label in zip(np.array(train_data['text']), np.array(train_data['label']))]\n",
    "dataset['test'] = [{'text':text, 'label': 0} \\\n",
    "              for text in np.array(test_data['text'])]"
   ]
  },
  {
   "cell_type": "code",
   "execution_count": 12,
   "metadata": {},
   "outputs": [
    {
     "name": "stderr",
     "output_type": "stream",
     "text": [
      "<ipython-input-12-d69d87d24941>:13: TqdmDeprecationWarning: This function will be removed in tqdm==5.0.0\n",
      "Please use `tqdm.notebook.tqdm` instead of `tqdm.tqdm_notebook`\n",
      "  for example in tqdm_notebook(dataset['train']):\n"
     ]
    },
    {
     "data": {
      "application/vnd.jupyter.widget-view+json": {
       "model_id": "7f0d5170e96e462dbfe6c503612a6ba4",
       "version_major": 2,
       "version_minor": 0
      },
      "text/plain": [
       "HBox(children=(HTML(value=''), FloatProgress(value=0.0, max=1651.0), HTML(value='')))"
      ]
     },
     "metadata": {},
     "output_type": "display_data"
    },
    {
     "name": "stdout",
     "output_type": "stream",
     "text": [
      "\n"
     ]
    },
    {
     "name": "stderr",
     "output_type": "stream",
     "text": [
      "<ipython-input-12-d69d87d24941>:22: TqdmDeprecationWarning: This function will be removed in tqdm==5.0.0\n",
      "Please use `tqdm.notebook.tqdm` instead of `tqdm.tqdm_notebook`\n",
      "  for example in tqdm_notebook(dataset['test']):\n"
     ]
    },
    {
     "data": {
      "application/vnd.jupyter.widget-view+json": {
       "model_id": "502ece44369e431c86895f007ce16b9d",
       "version_major": 2,
       "version_minor": 0
      },
      "text/plain": [
       "HBox(children=(HTML(value=''), FloatProgress(value=0.0, max=1651.0), HTML(value='')))"
      ]
     },
     "metadata": {},
     "output_type": "display_data"
    },
    {
     "name": "stdout",
     "output_type": "stream",
     "text": [
      "\n"
     ]
    }
   ],
   "source": [
    "def process_and_tokenize_text(text):\n",
    "    prccessed_text = text.lower().translate(\n",
    "        str.maketrans('', '', string.punctuation)\n",
    "    )\n",
    "    tokens = word_tokenize(prccessed_text)\n",
    "    return tokens\n",
    "\n",
    "train_data = []\n",
    "test_data = []\n",
    "\n",
    "words = Counter()\n",
    "\n",
    "for example in tqdm_notebook(dataset['train']):\n",
    "    text = example['text']\n",
    "    label = example['label']\n",
    "    text_processed = process_and_tokenize_text(text)\n",
    "    train_data.append((text_processed, label))\n",
    "\n",
    "    for word in text_processed:\n",
    "        words[word] += 1\n",
    "\n",
    "for example in tqdm_notebook(dataset['test']):\n",
    "    text = example['text']\n",
    "    label = example['label']\n",
    "    text_processed = process_and_tokenize_text(text)\n",
    "    test_data.append((text_processed, label))"
   ]
  },
  {
   "cell_type": "code",
   "execution_count": 13,
   "metadata": {},
   "outputs": [],
   "source": [
    "vocab = set(['<unk>', '<bos>', '<eos>', '<pad>'])\n",
    "\n",
    "counter_threshold = 1\n",
    "\n",
    "for char, cnt in words.items():\n",
    "    if cnt > counter_threshold:\n",
    "        vocab.add(char)"
   ]
  },
  {
   "cell_type": "code",
   "execution_count": 14,
   "metadata": {},
   "outputs": [],
   "source": [
    "word2ind = {char: i for i, char in enumerate(vocab)}\n",
    "ind2word = {i: char for char, i in word2ind.items()}"
   ]
  },
  {
   "cell_type": "code",
   "execution_count": 15,
   "metadata": {},
   "outputs": [],
   "source": [
    "def collate_fn_with_padding(input_batch, max_len=256):\n",
    "    texts = [x[0] for x in input_batch]\n",
    "    labels = [x[1] for x in input_batch]\n",
    "    seq_lens = [len(x) for x in texts]\n",
    "    max_seq_len = min(max(seq_lens), max_len)\n",
    "\n",
    "    processed_texts = []\n",
    "    for text, label in zip(texts, labels):\n",
    "        text = text[:max_seq_len]\n",
    "        text = [word2ind[x] if x in vocab else word2ind['<unk>'] for x in text]\n",
    "        for _ in range(max_seq_len - len(text)):\n",
    "            text.append(word2ind['<pad>'])\n",
    "\n",
    "        processed_texts.append(text)\n",
    "\n",
    "    processed_texts = torch.LongTensor(processed_texts).to(device)\n",
    "    labels = torch.LongTensor(labels).to(device)\n",
    "\n",
    "    processed_batch = {\n",
    "        'input_ids': processed_texts,\n",
    "        'label': labels\n",
    "    }\n",
    "\n",
    "    return processed_batch"
   ]
  },
  {
   "cell_type": "code",
   "execution_count": 16,
   "metadata": {},
   "outputs": [],
   "source": [
    "batch_size = 128\n",
    "train_dataloader = DataLoader(\n",
    "    train_data, shuffle=True, collate_fn=collate_fn_with_padding, batch_size=batch_size)\n",
    "\n",
    "test_dataloader = DataLoader(\n",
    "    test_data, shuffle=False, collate_fn=collate_fn_with_padding, batch_size=batch_size)"
   ]
  },
  {
   "cell_type": "code",
   "execution_count": 18,
   "metadata": {},
   "outputs": [],
   "source": [
    "class SimpleGRU(nn.Module):\n",
    "    def __init__(\n",
    "        self, hidden_dim, vocab_size, num_classes,\n",
    "        aggregation_type: str = 'last'\n",
    "        ):\n",
    "        super().__init__()\n",
    "        self.embedding = nn.Embedding(vocab_size, hidden_dim)\n",
    "        self.gru = nn.GRU(hidden_dim, hidden_dim, num_layers = 1, batch_first=True)\n",
    "\n",
    "        self.fc1 = nn.Linear(hidden_dim, hidden_dim)\n",
    "        self.fc2 = nn.Linear(hidden_dim, num_classes)\n",
    "\n",
    "        self.dropout = nn.Dropout(p=0.1)\n",
    "\n",
    "        self.aggregation_type = aggregation_type\n",
    "\n",
    "    def forward(self, input_batch) -> torch.Tensor:\n",
    "        embeddings = self.embedding(input_batch)  # [batch_size, seq_len, hidden_dim]\n",
    "        output, _ = self.gru(embeddings)          # [batch_size, seq_len, hidden_dim]\n",
    "\n",
    "        if self.aggregation_type == 'max':\n",
    "            output = output.max(dim=1)[0]         #[batch_size, hidden_dim]\n",
    "        elif self.aggregation_type == 'mean':\n",
    "            output = output.mean(dim=1)           #[batch_size, hidden_dim]\n",
    "        elif self.aggregation_type == 'last':\n",
    "            output = output[:, -1, :]\n",
    "        else:\n",
    "            raise ValueError(\"Invalid aggregation_type\")\n",
    "\n",
    "        output = F.tanh(output)\n",
    "        output = F.tanh(self.dropout(self.fc1(output)))   # [batch_size, hidden_dim]\n",
    "        output = self.fc2(output)                         # [batch_size, num_classes]\n",
    "\n",
    "        return output"
   ]
  },
  {
   "cell_type": "code",
   "execution_count": 19,
   "metadata": {},
   "outputs": [],
   "source": [
    "def evaluate(model, dataloader):\n",
    "    \"\"\"\n",
    "    Calculate accuracy on data from dataloader.\n",
    "    \"\"\"\n",
    "\n",
    "    predictions = []\n",
    "    target = []\n",
    "    with torch.no_grad():\n",
    "        for batch in tqdm_notebook(dataloader,\n",
    "                                   desc=f'Evaluating'):\n",
    "            logits = model(batch['input_ids'])\n",
    "            predictions.append(logits.argmax(dim=1))\n",
    "            target.append(batch['label'])\n",
    "\n",
    "    predictions = torch.cat(predictions)\n",
    "    target = torch.cat(target)\n",
    "    accuracy = (predictions == target).float().mean().item()\n",
    "\n",
    "    return accuracy"
   ]
  },
  {
   "cell_type": "code",
   "execution_count": 20,
   "metadata": {},
   "outputs": [],
   "source": [
    "def train(model, optimizer, criterion, num_epoch=5, eval_steps=100):\n",
    "\n",
    "    losses = []\n",
    "    accs_train = []\n",
    "\n",
    "    for epoch in range(num_epoch):\n",
    "        epoch_losses = []\n",
    "        model.train()\n",
    "        for i, batch in enumerate(tqdm_notebook(train_dataloader,\n",
    "                                                desc=f'Training epoch {epoch}:')):\n",
    "            optimizer.zero_grad()\n",
    "            logits = model(batch['input_ids'])\n",
    "            loss = criterion(logits, batch['label'])\n",
    "            loss.backward()\n",
    "            optimizer.step()\n",
    "\n",
    "            epoch_losses.append(loss.item())\n",
    "            if i % eval_steps == 0:\n",
    "                model.eval()\n",
    "                accs_train.append(evaluate(model, train_dataloader))\n",
    "                model.train()\n",
    "\n",
    "        losses.append(sum(epoch_losses) / len(epoch_losses))\n",
    "\n",
    "    return losses, accs_train"
   ]
  },
  {
   "cell_type": "code",
   "execution_count": 23,
   "metadata": {},
   "outputs": [],
   "source": [
    "model = SimpleGRU(hidden_dim = 256, vocab_size = len(vocab), num_classes = 8, aggregation_type = 'max').to(device)"
   ]
  },
  {
   "cell_type": "code",
   "execution_count": 24,
   "metadata": {},
   "outputs": [
    {
     "name": "stderr",
     "output_type": "stream",
     "text": [
      "<ipython-input-20-c822f2a0e4ec>:9: TqdmDeprecationWarning: This function will be removed in tqdm==5.0.0\n",
      "Please use `tqdm.notebook.tqdm` instead of `tqdm.tqdm_notebook`\n",
      "  for i, batch in enumerate(tqdm_notebook(train_dataloader,\n"
     ]
    },
    {
     "data": {
      "application/vnd.jupyter.widget-view+json": {
       "model_id": "b8ab3b4a0865418bac55d90ad0b93393",
       "version_major": 2,
       "version_minor": 0
      },
      "text/plain": [
       "HBox(children=(HTML(value='Training epoch 0:'), FloatProgress(value=0.0, max=13.0), HTML(value='')))"
      ]
     },
     "metadata": {},
     "output_type": "display_data"
    },
    {
     "data": {
      "application/vnd.jupyter.widget-view+json": {
       "model_id": "6d42f55ac21e4828b0e579f1665e6169",
       "version_major": 2,
       "version_minor": 0
      },
      "text/plain": [
       "HBox(children=(HTML(value='Evaluating'), FloatProgress(value=0.0, max=13.0), HTML(value='')))"
      ]
     },
     "metadata": {},
     "output_type": "display_data"
    },
    {
     "name": "stdout",
     "output_type": "stream",
     "text": [
      "\n"
     ]
    },
    {
     "data": {
      "application/vnd.jupyter.widget-view+json": {
       "model_id": "56e3c482ae804b0eaf7f2733d2134e10",
       "version_major": 2,
       "version_minor": 0
      },
      "text/plain": [
       "HBox(children=(HTML(value='Evaluating'), FloatProgress(value=0.0, max=13.0), HTML(value='')))"
      ]
     },
     "metadata": {},
     "output_type": "display_data"
    },
    {
     "name": "stdout",
     "output_type": "stream",
     "text": [
      "\n"
     ]
    },
    {
     "data": {
      "application/vnd.jupyter.widget-view+json": {
       "model_id": "48288c73a089448eb1677c99a0f2c5cb",
       "version_major": 2,
       "version_minor": 0
      },
      "text/plain": [
       "HBox(children=(HTML(value='Evaluating'), FloatProgress(value=0.0, max=13.0), HTML(value='')))"
      ]
     },
     "metadata": {},
     "output_type": "display_data"
    },
    {
     "name": "stdout",
     "output_type": "stream",
     "text": [
      "\n",
      "\n"
     ]
    },
    {
     "data": {
      "application/vnd.jupyter.widget-view+json": {
       "model_id": "971a0f6481634b0686484986215a91df",
       "version_major": 2,
       "version_minor": 0
      },
      "text/plain": [
       "HBox(children=(HTML(value='Training epoch 1:'), FloatProgress(value=0.0, max=13.0), HTML(value='')))"
      ]
     },
     "metadata": {},
     "output_type": "display_data"
    },
    {
     "data": {
      "application/vnd.jupyter.widget-view+json": {
       "model_id": "4cfd153f45c74708ab5794d16ebfbe64",
       "version_major": 2,
       "version_minor": 0
      },
      "text/plain": [
       "HBox(children=(HTML(value='Evaluating'), FloatProgress(value=0.0, max=13.0), HTML(value='')))"
      ]
     },
     "metadata": {},
     "output_type": "display_data"
    },
    {
     "name": "stdout",
     "output_type": "stream",
     "text": [
      "\n"
     ]
    },
    {
     "data": {
      "application/vnd.jupyter.widget-view+json": {
       "model_id": "20cedb3344da4579810ad5f3c13dd35c",
       "version_major": 2,
       "version_minor": 0
      },
      "text/plain": [
       "HBox(children=(HTML(value='Evaluating'), FloatProgress(value=0.0, max=13.0), HTML(value='')))"
      ]
     },
     "metadata": {},
     "output_type": "display_data"
    },
    {
     "name": "stdout",
     "output_type": "stream",
     "text": [
      "\n"
     ]
    },
    {
     "data": {
      "application/vnd.jupyter.widget-view+json": {
       "model_id": "7f1e9f81b9a444fea13ceac12aee4e8e",
       "version_major": 2,
       "version_minor": 0
      },
      "text/plain": [
       "HBox(children=(HTML(value='Evaluating'), FloatProgress(value=0.0, max=13.0), HTML(value='')))"
      ]
     },
     "metadata": {},
     "output_type": "display_data"
    },
    {
     "name": "stdout",
     "output_type": "stream",
     "text": [
      "\n",
      "\n"
     ]
    },
    {
     "data": {
      "application/vnd.jupyter.widget-view+json": {
       "model_id": "48aae5f455664988ae7ec4e0a696dbdd",
       "version_major": 2,
       "version_minor": 0
      },
      "text/plain": [
       "HBox(children=(HTML(value='Training epoch 2:'), FloatProgress(value=0.0, max=13.0), HTML(value='')))"
      ]
     },
     "metadata": {},
     "output_type": "display_data"
    },
    {
     "data": {
      "application/vnd.jupyter.widget-view+json": {
       "model_id": "32e9fc9fefb0476cbca7f2b99605a866",
       "version_major": 2,
       "version_minor": 0
      },
      "text/plain": [
       "HBox(children=(HTML(value='Evaluating'), FloatProgress(value=0.0, max=13.0), HTML(value='')))"
      ]
     },
     "metadata": {},
     "output_type": "display_data"
    },
    {
     "name": "stdout",
     "output_type": "stream",
     "text": [
      "\n"
     ]
    },
    {
     "data": {
      "application/vnd.jupyter.widget-view+json": {
       "model_id": "66eb8863724741b5935747ef4be896b4",
       "version_major": 2,
       "version_minor": 0
      },
      "text/plain": [
       "HBox(children=(HTML(value='Evaluating'), FloatProgress(value=0.0, max=13.0), HTML(value='')))"
      ]
     },
     "metadata": {},
     "output_type": "display_data"
    },
    {
     "name": "stdout",
     "output_type": "stream",
     "text": [
      "\n"
     ]
    },
    {
     "data": {
      "application/vnd.jupyter.widget-view+json": {
       "model_id": "950bf2fe6f1a467b8126c152f86cd5e4",
       "version_major": 2,
       "version_minor": 0
      },
      "text/plain": [
       "HBox(children=(HTML(value='Evaluating'), FloatProgress(value=0.0, max=13.0), HTML(value='')))"
      ]
     },
     "metadata": {},
     "output_type": "display_data"
    },
    {
     "name": "stdout",
     "output_type": "stream",
     "text": [
      "\n",
      "\n"
     ]
    },
    {
     "data": {
      "application/vnd.jupyter.widget-view+json": {
       "model_id": "ece964c5a41b434a831ed3c51119804e",
       "version_major": 2,
       "version_minor": 0
      },
      "text/plain": [
       "HBox(children=(HTML(value='Training epoch 3:'), FloatProgress(value=0.0, max=13.0), HTML(value='')))"
      ]
     },
     "metadata": {},
     "output_type": "display_data"
    },
    {
     "data": {
      "application/vnd.jupyter.widget-view+json": {
       "model_id": "a5cdc51c83f1494d9bdc723e862677f2",
       "version_major": 2,
       "version_minor": 0
      },
      "text/plain": [
       "HBox(children=(HTML(value='Evaluating'), FloatProgress(value=0.0, max=13.0), HTML(value='')))"
      ]
     },
     "metadata": {},
     "output_type": "display_data"
    },
    {
     "name": "stdout",
     "output_type": "stream",
     "text": [
      "\n"
     ]
    },
    {
     "data": {
      "application/vnd.jupyter.widget-view+json": {
       "model_id": "db1cf229b0af407f80b44d687d8d17ce",
       "version_major": 2,
       "version_minor": 0
      },
      "text/plain": [
       "HBox(children=(HTML(value='Evaluating'), FloatProgress(value=0.0, max=13.0), HTML(value='')))"
      ]
     },
     "metadata": {},
     "output_type": "display_data"
    },
    {
     "name": "stdout",
     "output_type": "stream",
     "text": [
      "\n"
     ]
    },
    {
     "data": {
      "application/vnd.jupyter.widget-view+json": {
       "model_id": "e989c11a538c40c097c14fbe08747cbe",
       "version_major": 2,
       "version_minor": 0
      },
      "text/plain": [
       "HBox(children=(HTML(value='Evaluating'), FloatProgress(value=0.0, max=13.0), HTML(value='')))"
      ]
     },
     "metadata": {},
     "output_type": "display_data"
    },
    {
     "name": "stdout",
     "output_type": "stream",
     "text": [
      "\n",
      "\n"
     ]
    },
    {
     "data": {
      "application/vnd.jupyter.widget-view+json": {
       "model_id": "9a771f1101094747b4acea5b9bd0745e",
       "version_major": 2,
       "version_minor": 0
      },
      "text/plain": [
       "HBox(children=(HTML(value='Training epoch 4:'), FloatProgress(value=0.0, max=13.0), HTML(value='')))"
      ]
     },
     "metadata": {},
     "output_type": "display_data"
    },
    {
     "data": {
      "application/vnd.jupyter.widget-view+json": {
       "model_id": "87d51f49b86648d3bd80faed9b2fad77",
       "version_major": 2,
       "version_minor": 0
      },
      "text/plain": [
       "HBox(children=(HTML(value='Evaluating'), FloatProgress(value=0.0, max=13.0), HTML(value='')))"
      ]
     },
     "metadata": {},
     "output_type": "display_data"
    },
    {
     "name": "stdout",
     "output_type": "stream",
     "text": [
      "\n"
     ]
    },
    {
     "data": {
      "application/vnd.jupyter.widget-view+json": {
       "model_id": "2d8f002e77c24e7483550f0d057c0b57",
       "version_major": 2,
       "version_minor": 0
      },
      "text/plain": [
       "HBox(children=(HTML(value='Evaluating'), FloatProgress(value=0.0, max=13.0), HTML(value='')))"
      ]
     },
     "metadata": {},
     "output_type": "display_data"
    },
    {
     "name": "stdout",
     "output_type": "stream",
     "text": [
      "\n"
     ]
    },
    {
     "data": {
      "application/vnd.jupyter.widget-view+json": {
       "model_id": "bcfa8ed8b3864a298327361715829567",
       "version_major": 2,
       "version_minor": 0
      },
      "text/plain": [
       "HBox(children=(HTML(value='Evaluating'), FloatProgress(value=0.0, max=13.0), HTML(value='')))"
      ]
     },
     "metadata": {},
     "output_type": "display_data"
    },
    {
     "name": "stdout",
     "output_type": "stream",
     "text": [
      "\n",
      "\n"
     ]
    },
    {
     "data": {
      "application/vnd.jupyter.widget-view+json": {
       "model_id": "5ff5562ede994594b599b8bf83a7c07c",
       "version_major": 2,
       "version_minor": 0
      },
      "text/plain": [
       "HBox(children=(HTML(value='Training epoch 5:'), FloatProgress(value=0.0, max=13.0), HTML(value='')))"
      ]
     },
     "metadata": {},
     "output_type": "display_data"
    },
    {
     "data": {
      "application/vnd.jupyter.widget-view+json": {
       "model_id": "242a27793e9c440a9463c2824bc88be0",
       "version_major": 2,
       "version_minor": 0
      },
      "text/plain": [
       "HBox(children=(HTML(value='Evaluating'), FloatProgress(value=0.0, max=13.0), HTML(value='')))"
      ]
     },
     "metadata": {},
     "output_type": "display_data"
    },
    {
     "name": "stdout",
     "output_type": "stream",
     "text": [
      "\n"
     ]
    },
    {
     "data": {
      "application/vnd.jupyter.widget-view+json": {
       "model_id": "67f7d0d4fc6e4ef5884fcc65b80fb6e5",
       "version_major": 2,
       "version_minor": 0
      },
      "text/plain": [
       "HBox(children=(HTML(value='Evaluating'), FloatProgress(value=0.0, max=13.0), HTML(value='')))"
      ]
     },
     "metadata": {},
     "output_type": "display_data"
    },
    {
     "name": "stdout",
     "output_type": "stream",
     "text": [
      "\n"
     ]
    },
    {
     "data": {
      "application/vnd.jupyter.widget-view+json": {
       "model_id": "5d97019b7f864b44b9ddabe1e7209d6f",
       "version_major": 2,
       "version_minor": 0
      },
      "text/plain": [
       "HBox(children=(HTML(value='Evaluating'), FloatProgress(value=0.0, max=13.0), HTML(value='')))"
      ]
     },
     "metadata": {},
     "output_type": "display_data"
    },
    {
     "name": "stdout",
     "output_type": "stream",
     "text": [
      "\n",
      "\n"
     ]
    },
    {
     "data": {
      "application/vnd.jupyter.widget-view+json": {
       "model_id": "bf8f79d44aa94d12b50365eef28e5e50",
       "version_major": 2,
       "version_minor": 0
      },
      "text/plain": [
       "HBox(children=(HTML(value='Training epoch 6:'), FloatProgress(value=0.0, max=13.0), HTML(value='')))"
      ]
     },
     "metadata": {},
     "output_type": "display_data"
    },
    {
     "data": {
      "application/vnd.jupyter.widget-view+json": {
       "model_id": "9819fd47594d4004ab8b1023e5acbe3f",
       "version_major": 2,
       "version_minor": 0
      },
      "text/plain": [
       "HBox(children=(HTML(value='Evaluating'), FloatProgress(value=0.0, max=13.0), HTML(value='')))"
      ]
     },
     "metadata": {},
     "output_type": "display_data"
    },
    {
     "name": "stdout",
     "output_type": "stream",
     "text": [
      "\n"
     ]
    },
    {
     "data": {
      "application/vnd.jupyter.widget-view+json": {
       "model_id": "ec1bd97c88c04cf2ae86aac3a49921f0",
       "version_major": 2,
       "version_minor": 0
      },
      "text/plain": [
       "HBox(children=(HTML(value='Evaluating'), FloatProgress(value=0.0, max=13.0), HTML(value='')))"
      ]
     },
     "metadata": {},
     "output_type": "display_data"
    },
    {
     "name": "stdout",
     "output_type": "stream",
     "text": [
      "\n"
     ]
    },
    {
     "data": {
      "application/vnd.jupyter.widget-view+json": {
       "model_id": "bb29897d2a7742df99588fa93fa3207f",
       "version_major": 2,
       "version_minor": 0
      },
      "text/plain": [
       "HBox(children=(HTML(value='Evaluating'), FloatProgress(value=0.0, max=13.0), HTML(value='')))"
      ]
     },
     "metadata": {},
     "output_type": "display_data"
    },
    {
     "name": "stdout",
     "output_type": "stream",
     "text": [
      "\n",
      "\n"
     ]
    },
    {
     "data": {
      "application/vnd.jupyter.widget-view+json": {
       "model_id": "6e71a69995d243178792d0ccee334bbc",
       "version_major": 2,
       "version_minor": 0
      },
      "text/plain": [
       "HBox(children=(HTML(value='Training epoch 7:'), FloatProgress(value=0.0, max=13.0), HTML(value='')))"
      ]
     },
     "metadata": {},
     "output_type": "display_data"
    },
    {
     "data": {
      "application/vnd.jupyter.widget-view+json": {
       "model_id": "ef181189171844809d6dd56e034835cd",
       "version_major": 2,
       "version_minor": 0
      },
      "text/plain": [
       "HBox(children=(HTML(value='Evaluating'), FloatProgress(value=0.0, max=13.0), HTML(value='')))"
      ]
     },
     "metadata": {},
     "output_type": "display_data"
    },
    {
     "name": "stdout",
     "output_type": "stream",
     "text": [
      "\n"
     ]
    },
    {
     "data": {
      "application/vnd.jupyter.widget-view+json": {
       "model_id": "3faa46ff8d1c4173ac13c2cb9d0f5543",
       "version_major": 2,
       "version_minor": 0
      },
      "text/plain": [
       "HBox(children=(HTML(value='Evaluating'), FloatProgress(value=0.0, max=13.0), HTML(value='')))"
      ]
     },
     "metadata": {},
     "output_type": "display_data"
    },
    {
     "name": "stdout",
     "output_type": "stream",
     "text": [
      "\n"
     ]
    },
    {
     "data": {
      "application/vnd.jupyter.widget-view+json": {
       "model_id": "05dda77faf544ef583320bc568858a05",
       "version_major": 2,
       "version_minor": 0
      },
      "text/plain": [
       "HBox(children=(HTML(value='Evaluating'), FloatProgress(value=0.0, max=13.0), HTML(value='')))"
      ]
     },
     "metadata": {},
     "output_type": "display_data"
    },
    {
     "name": "stdout",
     "output_type": "stream",
     "text": [
      "\n",
      "\n"
     ]
    },
    {
     "data": {
      "application/vnd.jupyter.widget-view+json": {
       "model_id": "e0ca58f8f00441d1b30905448e1662b8",
       "version_major": 2,
       "version_minor": 0
      },
      "text/plain": [
       "HBox(children=(HTML(value='Training epoch 8:'), FloatProgress(value=0.0, max=13.0), HTML(value='')))"
      ]
     },
     "metadata": {},
     "output_type": "display_data"
    },
    {
     "data": {
      "application/vnd.jupyter.widget-view+json": {
       "model_id": "333c82c1ed5a43adac5c42ab616d1698",
       "version_major": 2,
       "version_minor": 0
      },
      "text/plain": [
       "HBox(children=(HTML(value='Evaluating'), FloatProgress(value=0.0, max=13.0), HTML(value='')))"
      ]
     },
     "metadata": {},
     "output_type": "display_data"
    },
    {
     "name": "stdout",
     "output_type": "stream",
     "text": [
      "\n"
     ]
    },
    {
     "data": {
      "application/vnd.jupyter.widget-view+json": {
       "model_id": "402a43f1d20e445c9aa3350afc4600db",
       "version_major": 2,
       "version_minor": 0
      },
      "text/plain": [
       "HBox(children=(HTML(value='Evaluating'), FloatProgress(value=0.0, max=13.0), HTML(value='')))"
      ]
     },
     "metadata": {},
     "output_type": "display_data"
    },
    {
     "name": "stdout",
     "output_type": "stream",
     "text": [
      "\n"
     ]
    },
    {
     "data": {
      "application/vnd.jupyter.widget-view+json": {
       "model_id": "6939d45f10324eecb36068b22e535bd5",
       "version_major": 2,
       "version_minor": 0
      },
      "text/plain": [
       "HBox(children=(HTML(value='Evaluating'), FloatProgress(value=0.0, max=13.0), HTML(value='')))"
      ]
     },
     "metadata": {},
     "output_type": "display_data"
    },
    {
     "name": "stdout",
     "output_type": "stream",
     "text": [
      "\n",
      "\n"
     ]
    },
    {
     "data": {
      "application/vnd.jupyter.widget-view+json": {
       "model_id": "03bd18d9b9d74ec39470b75f78b9a9bc",
       "version_major": 2,
       "version_minor": 0
      },
      "text/plain": [
       "HBox(children=(HTML(value='Training epoch 9:'), FloatProgress(value=0.0, max=13.0), HTML(value='')))"
      ]
     },
     "metadata": {},
     "output_type": "display_data"
    },
    {
     "data": {
      "application/vnd.jupyter.widget-view+json": {
       "model_id": "fd070c41641946edb582d4b0d4ed0f19",
       "version_major": 2,
       "version_minor": 0
      },
      "text/plain": [
       "HBox(children=(HTML(value='Evaluating'), FloatProgress(value=0.0, max=13.0), HTML(value='')))"
      ]
     },
     "metadata": {},
     "output_type": "display_data"
    },
    {
     "name": "stdout",
     "output_type": "stream",
     "text": [
      "\n"
     ]
    },
    {
     "data": {
      "application/vnd.jupyter.widget-view+json": {
       "model_id": "f8922df6a44a4233a8057fdaf0129801",
       "version_major": 2,
       "version_minor": 0
      },
      "text/plain": [
       "HBox(children=(HTML(value='Evaluating'), FloatProgress(value=0.0, max=13.0), HTML(value='')))"
      ]
     },
     "metadata": {},
     "output_type": "display_data"
    },
    {
     "name": "stdout",
     "output_type": "stream",
     "text": [
      "\n"
     ]
    },
    {
     "data": {
      "application/vnd.jupyter.widget-view+json": {
       "model_id": "9a519d550a864bd5abc6cf731995bf5f",
       "version_major": 2,
       "version_minor": 0
      },
      "text/plain": [
       "HBox(children=(HTML(value='Evaluating'), FloatProgress(value=0.0, max=13.0), HTML(value='')))"
      ]
     },
     "metadata": {},
     "output_type": "display_data"
    },
    {
     "name": "stdout",
     "output_type": "stream",
     "text": [
      "\n",
      "\n"
     ]
    }
   ],
   "source": [
    "opt = torch.optim.Adam(model.parameters(), lr = 1e-3)\n",
    "crt = nn.CrossEntropyLoss(ignore_index=word2ind['<pad>'])\n",
    "\n",
    "losses, acca_train = train(model, opt, crt, num_epoch = 10, eval_steps=len(train_dataloader) // 2)"
   ]
  },
  {
   "cell_type": "code",
   "execution_count": 25,
   "metadata": {},
   "outputs": [
    {
     "name": "stderr",
     "output_type": "stream",
     "text": [
      "<ipython-input-19-fa459c92f69e>:9: TqdmDeprecationWarning: This function will be removed in tqdm==5.0.0\n",
      "Please use `tqdm.notebook.tqdm` instead of `tqdm.tqdm_notebook`\n",
      "  for batch in tqdm_notebook(dataloader,\n"
     ]
    },
    {
     "data": {
      "application/vnd.jupyter.widget-view+json": {
       "model_id": "3c929198311542fabc243f2bad0d80cd",
       "version_major": 2,
       "version_minor": 0
      },
      "text/plain": [
       "HBox(children=(HTML(value='Evaluating'), FloatProgress(value=0.0, max=13.0), HTML(value='')))"
      ]
     },
     "metadata": {},
     "output_type": "display_data"
    },
    {
     "name": "stdout",
     "output_type": "stream",
     "text": [
      "\n"
     ]
    },
    {
     "data": {
      "text/plain": [
       "0.9836462736129761"
      ]
     },
     "execution_count": 25,
     "metadata": {},
     "output_type": "execute_result"
    }
   ],
   "source": [
    "evaluate(model, train_dataloader)"
   ]
  },
  {
   "cell_type": "code",
   "execution_count": 26,
   "metadata": {},
   "outputs": [],
   "source": [
    "def get_predictions(model, dataloader):\n",
    "    \n",
    "    model.eval()\n",
    "    predictions = []\n",
    "    with torch.no_grad():\n",
    "        for batch in tqdm_notebook(dataloader,\n",
    "                                   desc=f'Evaluating'):\n",
    "            logits = model(batch['input_ids'])\n",
    "            predictions.append(logits.argmax(dim=1))\n",
    "\n",
    "    predictions = torch.cat(predictions).data.cpu().numpy()\n",
    "\n",
    "    return predictions"
   ]
  },
  {
   "cell_type": "code",
   "execution_count": 27,
   "metadata": {},
   "outputs": [
    {
     "name": "stderr",
     "output_type": "stream",
     "text": [
      "<ipython-input-26-be80a9647700>:6: TqdmDeprecationWarning: This function will be removed in tqdm==5.0.0\n",
      "Please use `tqdm.notebook.tqdm` instead of `tqdm.tqdm_notebook`\n",
      "  for batch in tqdm_notebook(dataloader,\n"
     ]
    },
    {
     "data": {
      "application/vnd.jupyter.widget-view+json": {
       "model_id": "e68428f5f73e46f599ad289d85fe722a",
       "version_major": 2,
       "version_minor": 0
      },
      "text/plain": [
       "HBox(children=(HTML(value='Evaluating'), FloatProgress(value=0.0, max=13.0), HTML(value='')))"
      ]
     },
     "metadata": {},
     "output_type": "display_data"
    },
    {
     "name": "stdout",
     "output_type": "stream",
     "text": [
      "\n"
     ]
    },
    {
     "data": {
      "text/plain": [
       "['Pratchett',\n",
       " 'Remark',\n",
       " 'King',\n",
       " 'Pratchett',\n",
       " 'Akunin',\n",
       " 'Akunin',\n",
       " 'Akunin',\n",
       " 'Pratchett',\n",
       " 'Akunin',\n",
       " 'Bulychev',\n",
       " 'Bulychev',\n",
       " 'Bulychev',\n",
       " 'Akunin',\n",
       " 'Bulychev',\n",
       " 'Akunin',\n",
       " 'Akunin',\n",
       " 'Akunin',\n",
       " 'Bulychev',\n",
       " 'King',\n",
       " 'Chehov',\n",
       " 'Akunin',\n",
       " 'Bulychev',\n",
       " 'Remark',\n",
       " 'Remark',\n",
       " 'Remark',\n",
       " 'King',\n",
       " 'Akunin',\n",
       " 'Pratchett',\n",
       " 'Bulychev',\n",
       " 'Akunin',\n",
       " 'Chehov',\n",
       " 'Chehov',\n",
       " 'King',\n",
       " 'Akunin',\n",
       " 'Bulychev',\n",
       " 'Bulychev',\n",
       " 'Bulychev',\n",
       " 'Bulychev',\n",
       " 'Bulychev',\n",
       " 'Akunin',\n",
       " 'Gogol',\n",
       " 'King',\n",
       " 'Bulychev',\n",
       " 'Akunin',\n",
       " 'Chehov',\n",
       " 'Dostoevsky',\n",
       " 'Bulychev',\n",
       " 'Bulychev',\n",
       " 'Akunin',\n",
       " 'Akunin',\n",
       " 'Remark',\n",
       " 'King',\n",
       " 'Akunin',\n",
       " 'Bulychev',\n",
       " 'King',\n",
       " 'Akunin',\n",
       " 'Chehov',\n",
       " 'Remark',\n",
       " 'Akunin',\n",
       " 'Remark',\n",
       " 'Chehov',\n",
       " 'King',\n",
       " 'King',\n",
       " 'Akunin',\n",
       " 'Akunin',\n",
       " 'Akunin',\n",
       " 'Chehov',\n",
       " 'Pratchett',\n",
       " 'Pratchett',\n",
       " 'Akunin',\n",
       " 'Akunin',\n",
       " 'Akunin',\n",
       " 'Remark',\n",
       " 'Bulychev',\n",
       " 'Akunin',\n",
       " 'King',\n",
       " 'King',\n",
       " 'King',\n",
       " 'Akunin',\n",
       " 'Bulychev',\n",
       " 'King',\n",
       " 'Bulychev',\n",
       " 'Pratchett',\n",
       " 'Gogol',\n",
       " 'King',\n",
       " 'Gogol',\n",
       " 'Akunin',\n",
       " 'King',\n",
       " 'Bulychev',\n",
       " 'Chehov',\n",
       " 'Gogol',\n",
       " 'Akunin',\n",
       " 'Pratchett',\n",
       " 'Gogol',\n",
       " 'Akunin',\n",
       " 'Remark',\n",
       " 'King',\n",
       " 'Pratchett',\n",
       " 'Akunin',\n",
       " 'Akunin',\n",
       " 'Pratchett',\n",
       " 'Bulychev',\n",
       " 'King',\n",
       " 'Chehov',\n",
       " 'Chehov',\n",
       " 'Akunin',\n",
       " 'Pratchett',\n",
       " 'Pratchett',\n",
       " 'Pratchett',\n",
       " 'King',\n",
       " 'Pratchett',\n",
       " 'Akunin',\n",
       " 'Akunin',\n",
       " 'Pratchett',\n",
       " 'Chehov',\n",
       " 'Dostoevsky',\n",
       " 'Bulychev',\n",
       " 'Gogol',\n",
       " 'King',\n",
       " 'Akunin',\n",
       " 'Akunin',\n",
       " 'Pratchett',\n",
       " 'King',\n",
       " 'King',\n",
       " 'Remark',\n",
       " 'Pratchett',\n",
       " 'Bulychev',\n",
       " 'Akunin',\n",
       " 'Chehov',\n",
       " 'Pratchett',\n",
       " 'Akunin',\n",
       " 'Remark',\n",
       " 'King',\n",
       " 'King',\n",
       " 'Akunin',\n",
       " 'Akunin',\n",
       " 'Bulychev',\n",
       " 'Bulychev',\n",
       " 'Akunin',\n",
       " 'Bulychev',\n",
       " 'Akunin',\n",
       " 'Pratchett',\n",
       " 'Bulychev',\n",
       " 'Gogol',\n",
       " 'King',\n",
       " 'Pratchett',\n",
       " 'Akunin',\n",
       " 'Remark',\n",
       " 'King',\n",
       " 'King',\n",
       " 'Bulychev',\n",
       " 'Akunin',\n",
       " 'Dostoevsky',\n",
       " 'Akunin',\n",
       " 'Akunin',\n",
       " 'Remark',\n",
       " 'Bulychev',\n",
       " 'Bulychev',\n",
       " 'King',\n",
       " 'Akunin',\n",
       " 'Pratchett',\n",
       " 'Pratchett',\n",
       " 'King',\n",
       " 'Akunin',\n",
       " 'Akunin',\n",
       " 'Gogol',\n",
       " 'Bulychev',\n",
       " 'Akunin',\n",
       " 'Akunin',\n",
       " 'Pratchett',\n",
       " 'King',\n",
       " 'Bulychev',\n",
       " 'Bulychev',\n",
       " 'Bulychev',\n",
       " 'Bulychev',\n",
       " 'Akunin',\n",
       " 'Bulychev',\n",
       " 'Bulychev',\n",
       " 'Bulychev',\n",
       " 'Bulychev',\n",
       " 'King',\n",
       " 'Bulychev',\n",
       " 'Chehov',\n",
       " 'Pratchett',\n",
       " 'Bulychev',\n",
       " 'Akunin',\n",
       " 'Chehov',\n",
       " 'Pratchett',\n",
       " 'Bulychev',\n",
       " 'Bulychev',\n",
       " 'Akunin',\n",
       " 'Pratchett',\n",
       " 'King',\n",
       " 'Akunin',\n",
       " 'Akunin',\n",
       " 'Pratchett',\n",
       " 'Pratchett',\n",
       " 'Akunin',\n",
       " 'Gogol',\n",
       " 'King',\n",
       " 'King',\n",
       " 'Chehov',\n",
       " 'Remark',\n",
       " 'Akunin',\n",
       " 'Dostoevsky',\n",
       " 'Akunin',\n",
       " 'Pratchett',\n",
       " 'Chehov',\n",
       " 'Akunin',\n",
       " 'Akunin',\n",
       " 'King',\n",
       " 'King',\n",
       " 'King',\n",
       " 'Pratchett',\n",
       " 'Pratchett',\n",
       " 'Gogol',\n",
       " 'Pratchett',\n",
       " 'King',\n",
       " 'Pratchett',\n",
       " 'Chehov',\n",
       " 'Dostoevsky',\n",
       " 'Akunin',\n",
       " 'Bulychev',\n",
       " 'Dostoevsky',\n",
       " 'Bulychev',\n",
       " 'Remark',\n",
       " 'King',\n",
       " 'King',\n",
       " 'Gogol',\n",
       " 'Pratchett',\n",
       " 'Chehov',\n",
       " 'Bulychev',\n",
       " 'Bulychev',\n",
       " 'Akunin',\n",
       " 'Gogol',\n",
       " 'King',\n",
       " 'Bulychev',\n",
       " 'Dostoevsky',\n",
       " 'Akunin',\n",
       " 'Akunin',\n",
       " 'King',\n",
       " 'Pratchett',\n",
       " 'Remark',\n",
       " 'Bulychev',\n",
       " 'Bulychev',\n",
       " 'King',\n",
       " 'King',\n",
       " 'Pratchett',\n",
       " 'Akunin',\n",
       " 'King',\n",
       " 'Dostoevsky',\n",
       " 'Pratchett',\n",
       " 'Dostoevsky',\n",
       " 'Bulychev',\n",
       " 'Bulychev',\n",
       " 'King',\n",
       " 'King',\n",
       " 'Bulychev',\n",
       " 'King',\n",
       " 'Akunin',\n",
       " 'Pratchett',\n",
       " 'Pratchett',\n",
       " 'Akunin',\n",
       " 'Dostoevsky',\n",
       " 'Remark',\n",
       " 'Bulychev',\n",
       " 'Akunin',\n",
       " 'Akunin',\n",
       " 'King',\n",
       " 'Akunin',\n",
       " 'Pratchett',\n",
       " 'Gogol',\n",
       " 'Chehov',\n",
       " 'Akunin',\n",
       " 'Akunin',\n",
       " 'Remark',\n",
       " 'Akunin',\n",
       " 'King',\n",
       " 'Chehov',\n",
       " 'Pratchett',\n",
       " 'Pratchett',\n",
       " 'King',\n",
       " 'Pratchett',\n",
       " 'Akunin',\n",
       " 'Gogol',\n",
       " 'King',\n",
       " 'Pratchett',\n",
       " 'Pratchett',\n",
       " 'Remark',\n",
       " 'Bulychev',\n",
       " 'Chehov',\n",
       " 'Dostoevsky',\n",
       " 'Chehov',\n",
       " 'Bulychev',\n",
       " 'Akunin',\n",
       " 'King',\n",
       " 'Bulychev',\n",
       " 'King',\n",
       " 'Akunin',\n",
       " 'Bulychev',\n",
       " 'Pratchett',\n",
       " 'Pratchett',\n",
       " 'Remark',\n",
       " 'Akunin',\n",
       " 'Akunin',\n",
       " 'King',\n",
       " 'Akunin',\n",
       " 'Remark',\n",
       " 'King',\n",
       " 'Dostoevsky',\n",
       " 'Bulychev',\n",
       " 'King',\n",
       " 'Akunin',\n",
       " 'Remark',\n",
       " 'Akunin',\n",
       " 'Pratchett',\n",
       " 'Pratchett',\n",
       " 'Remark',\n",
       " 'Akunin',\n",
       " 'Bulychev',\n",
       " 'King',\n",
       " 'King',\n",
       " 'Gogol',\n",
       " 'Chehov',\n",
       " 'Akunin',\n",
       " 'Chehov',\n",
       " 'Remark',\n",
       " 'Akunin',\n",
       " 'Pratchett',\n",
       " 'Akunin',\n",
       " 'King',\n",
       " 'King',\n",
       " 'Pratchett',\n",
       " 'Chehov',\n",
       " 'Akunin',\n",
       " 'Chehov',\n",
       " 'King',\n",
       " 'Pratchett',\n",
       " 'Chehov',\n",
       " 'Pratchett',\n",
       " 'Chehov',\n",
       " 'Chehov',\n",
       " 'Pratchett',\n",
       " 'Bulychev',\n",
       " 'Remark',\n",
       " 'King',\n",
       " 'King',\n",
       " 'Akunin',\n",
       " 'Pratchett',\n",
       " 'Akunin',\n",
       " 'Dostoevsky',\n",
       " 'Remark',\n",
       " 'Akunin',\n",
       " 'Dostoevsky',\n",
       " 'Pratchett',\n",
       " 'Pratchett',\n",
       " 'Chehov',\n",
       " 'Gogol',\n",
       " 'King',\n",
       " 'Akunin',\n",
       " 'Remark',\n",
       " 'Akunin',\n",
       " 'Gogol',\n",
       " 'Akunin',\n",
       " 'King',\n",
       " 'Bulychev',\n",
       " 'Pratchett',\n",
       " 'Akunin',\n",
       " 'King',\n",
       " 'Pratchett',\n",
       " 'King',\n",
       " 'Chehov',\n",
       " 'Bulychev',\n",
       " 'Akunin',\n",
       " 'Pratchett',\n",
       " 'Pratchett',\n",
       " 'Akunin',\n",
       " 'Akunin',\n",
       " 'Chehov',\n",
       " 'King',\n",
       " 'King',\n",
       " 'Akunin',\n",
       " 'Pratchett',\n",
       " 'King',\n",
       " 'Pratchett',\n",
       " 'Pratchett',\n",
       " 'Pratchett',\n",
       " 'Gogol',\n",
       " 'Akunin',\n",
       " 'Bulychev',\n",
       " 'King',\n",
       " 'Pratchett',\n",
       " 'Akunin',\n",
       " 'Bulychev',\n",
       " 'King',\n",
       " 'King',\n",
       " 'King',\n",
       " 'Akunin',\n",
       " 'Pratchett',\n",
       " 'Remark',\n",
       " 'Pratchett',\n",
       " 'Chehov',\n",
       " 'King',\n",
       " 'Dostoevsky',\n",
       " 'Bulychev',\n",
       " 'King',\n",
       " 'Gogol',\n",
       " 'Akunin',\n",
       " 'Pratchett',\n",
       " 'Bulychev',\n",
       " 'Akunin',\n",
       " 'Akunin',\n",
       " 'Dostoevsky',\n",
       " 'Chehov',\n",
       " 'Bulychev',\n",
       " 'Akunin',\n",
       " 'King',\n",
       " 'King',\n",
       " 'Pratchett',\n",
       " 'Pratchett',\n",
       " 'King',\n",
       " 'Bulychev',\n",
       " 'Akunin',\n",
       " 'Akunin',\n",
       " 'Akunin',\n",
       " 'Pratchett',\n",
       " 'Bulychev',\n",
       " 'Pratchett',\n",
       " 'Bulychev',\n",
       " 'Pratchett',\n",
       " 'Akunin',\n",
       " 'King',\n",
       " 'Akunin',\n",
       " 'Chehov',\n",
       " 'King',\n",
       " 'Bulychev',\n",
       " 'Akunin',\n",
       " 'King',\n",
       " 'Bulychev',\n",
       " 'King',\n",
       " 'Pratchett',\n",
       " 'Remark',\n",
       " 'Akunin',\n",
       " 'Chehov',\n",
       " 'Pratchett',\n",
       " 'Akunin',\n",
       " 'Gogol',\n",
       " 'King',\n",
       " 'Bulychev',\n",
       " 'Bulychev',\n",
       " 'Chehov',\n",
       " 'Dostoevsky',\n",
       " 'Akunin',\n",
       " 'Akunin',\n",
       " 'Akunin',\n",
       " 'Chehov',\n",
       " 'Remark',\n",
       " 'Akunin',\n",
       " 'Bulychev',\n",
       " 'Akunin',\n",
       " 'Dostoevsky',\n",
       " 'King',\n",
       " 'Bulychev',\n",
       " 'Akunin',\n",
       " 'Akunin',\n",
       " 'Akunin',\n",
       " 'Pratchett',\n",
       " 'Pratchett',\n",
       " 'Pratchett',\n",
       " 'Akunin',\n",
       " 'Akunin',\n",
       " 'Chehov',\n",
       " 'Bulychev',\n",
       " 'Gogol',\n",
       " 'King',\n",
       " 'Akunin',\n",
       " 'Pratchett',\n",
       " 'Akunin',\n",
       " 'Pratchett',\n",
       " 'Chehov',\n",
       " 'Akunin',\n",
       " 'King',\n",
       " 'Bulychev',\n",
       " 'King',\n",
       " 'King',\n",
       " 'Pratchett',\n",
       " 'Chehov',\n",
       " 'Akunin',\n",
       " 'Bulychev',\n",
       " 'King',\n",
       " 'Akunin',\n",
       " 'Bulychev',\n",
       " 'Akunin',\n",
       " 'Chehov',\n",
       " 'Bulychev',\n",
       " 'King',\n",
       " 'King',\n",
       " 'Chehov',\n",
       " 'Bulychev',\n",
       " 'Dostoevsky',\n",
       " 'Akunin',\n",
       " 'Akunin',\n",
       " 'King',\n",
       " 'King',\n",
       " 'Remark',\n",
       " 'Remark',\n",
       " 'Dostoevsky',\n",
       " 'Bulychev',\n",
       " 'Remark',\n",
       " 'Akunin',\n",
       " 'Bulychev',\n",
       " 'Akunin',\n",
       " 'Bulychev',\n",
       " 'Pratchett',\n",
       " 'King',\n",
       " 'Bulychev',\n",
       " 'Chehov',\n",
       " 'King',\n",
       " 'Pratchett',\n",
       " 'Akunin',\n",
       " 'King',\n",
       " 'Akunin',\n",
       " 'Bulychev',\n",
       " 'Pratchett',\n",
       " 'Bulychev',\n",
       " 'Akunin',\n",
       " 'Bulychev',\n",
       " 'Pratchett',\n",
       " 'Akunin',\n",
       " 'Gogol',\n",
       " 'Chehov',\n",
       " 'Remark',\n",
       " 'Bulychev',\n",
       " 'Bulychev',\n",
       " 'Bulychev',\n",
       " 'Dostoevsky',\n",
       " 'Akunin',\n",
       " 'Bulychev',\n",
       " 'Pratchett',\n",
       " 'Dostoevsky',\n",
       " 'Akunin',\n",
       " 'Remark',\n",
       " 'Pratchett',\n",
       " 'Akunin',\n",
       " 'Pratchett',\n",
       " 'Pratchett',\n",
       " 'Akunin',\n",
       " 'King',\n",
       " 'Pratchett',\n",
       " 'Akunin',\n",
       " 'Akunin',\n",
       " 'Bulychev',\n",
       " 'Bulychev',\n",
       " 'Akunin',\n",
       " 'King',\n",
       " 'King',\n",
       " 'Bulychev',\n",
       " 'Remark',\n",
       " 'Pratchett',\n",
       " 'Akunin',\n",
       " 'Pratchett',\n",
       " 'Remark',\n",
       " 'Remark',\n",
       " 'Bulychev',\n",
       " 'Bulychev',\n",
       " 'King',\n",
       " 'King',\n",
       " 'Pratchett',\n",
       " 'Akunin',\n",
       " 'Chehov',\n",
       " 'Pratchett',\n",
       " 'Akunin',\n",
       " 'Pratchett',\n",
       " 'Akunin',\n",
       " 'Chehov',\n",
       " 'Chehov',\n",
       " 'King',\n",
       " 'Pratchett',\n",
       " 'Gogol',\n",
       " 'Bulychev',\n",
       " 'Chehov',\n",
       " 'Akunin',\n",
       " 'Akunin',\n",
       " 'Remark',\n",
       " 'Bulychev',\n",
       " 'Dostoevsky',\n",
       " 'Bulychev',\n",
       " 'Pratchett',\n",
       " 'Remark',\n",
       " 'Dostoevsky',\n",
       " 'Pratchett',\n",
       " 'Bulychev',\n",
       " 'Pratchett',\n",
       " 'Bulychev',\n",
       " 'Akunin',\n",
       " 'Chehov',\n",
       " 'Pratchett',\n",
       " 'King',\n",
       " 'Akunin',\n",
       " 'Pratchett',\n",
       " 'Gogol',\n",
       " 'Akunin',\n",
       " 'Bulychev',\n",
       " 'Akunin',\n",
       " 'Gogol',\n",
       " 'Dostoevsky',\n",
       " 'Gogol',\n",
       " 'Pratchett',\n",
       " 'Pratchett',\n",
       " 'Akunin',\n",
       " 'King',\n",
       " 'Chehov',\n",
       " 'King',\n",
       " 'Pratchett',\n",
       " 'King',\n",
       " 'Chehov',\n",
       " 'Remark',\n",
       " 'King',\n",
       " 'King',\n",
       " 'King',\n",
       " 'Akunin',\n",
       " 'King',\n",
       " 'Remark',\n",
       " 'Bulychev',\n",
       " 'Dostoevsky',\n",
       " 'Chehov',\n",
       " 'Chehov',\n",
       " 'Chehov',\n",
       " 'Bulychev',\n",
       " 'Pratchett',\n",
       " 'Chehov',\n",
       " 'Chehov',\n",
       " 'Pratchett',\n",
       " 'Akunin',\n",
       " 'Chehov',\n",
       " 'Akunin',\n",
       " 'Pratchett',\n",
       " 'Gogol',\n",
       " 'Chehov',\n",
       " 'Akunin',\n",
       " 'Bulychev',\n",
       " 'Akunin',\n",
       " 'Akunin',\n",
       " 'Akunin',\n",
       " 'Remark',\n",
       " 'King',\n",
       " 'Chehov',\n",
       " 'King',\n",
       " 'Pratchett',\n",
       " 'Akunin',\n",
       " 'Akunin',\n",
       " 'Gogol',\n",
       " 'Akunin',\n",
       " 'Akunin',\n",
       " 'Gogol',\n",
       " 'Akunin',\n",
       " 'Gogol',\n",
       " 'Chehov',\n",
       " 'Pratchett',\n",
       " 'Remark',\n",
       " 'Akunin',\n",
       " 'Dostoevsky',\n",
       " 'Remark',\n",
       " 'Pratchett',\n",
       " 'Bulychev',\n",
       " 'King',\n",
       " 'King',\n",
       " 'King',\n",
       " 'Bulychev',\n",
       " 'King',\n",
       " 'Dostoevsky',\n",
       " 'Pratchett',\n",
       " 'Chehov',\n",
       " 'Remark',\n",
       " 'Akunin',\n",
       " 'Chehov',\n",
       " 'Akunin',\n",
       " 'King',\n",
       " 'Bulychev',\n",
       " 'Bulychev',\n",
       " 'Akunin',\n",
       " 'Chehov',\n",
       " 'Pratchett',\n",
       " 'Akunin',\n",
       " 'Remark',\n",
       " 'Bulychev',\n",
       " 'Chehov',\n",
       " 'King',\n",
       " 'Dostoevsky',\n",
       " 'Akunin',\n",
       " 'Akunin',\n",
       " 'Gogol',\n",
       " 'King',\n",
       " 'Bulychev',\n",
       " 'King',\n",
       " 'Remark',\n",
       " 'King',\n",
       " 'Pratchett',\n",
       " 'Gogol',\n",
       " 'Remark',\n",
       " 'Remark',\n",
       " 'King',\n",
       " 'Pratchett',\n",
       " 'Chehov',\n",
       " 'Pratchett',\n",
       " 'King',\n",
       " 'Akunin',\n",
       " 'Bulychev',\n",
       " 'Remark',\n",
       " 'Akunin',\n",
       " 'Akunin',\n",
       " 'Akunin',\n",
       " 'Bulychev',\n",
       " 'Akunin',\n",
       " 'Remark',\n",
       " 'Akunin',\n",
       " 'Chehov',\n",
       " 'Bulychev',\n",
       " 'Pratchett',\n",
       " 'Chehov',\n",
       " 'Gogol',\n",
       " 'Akunin',\n",
       " 'King',\n",
       " 'King',\n",
       " 'Chehov',\n",
       " 'Remark',\n",
       " 'Gogol',\n",
       " 'Pratchett',\n",
       " 'King',\n",
       " 'Bulychev',\n",
       " 'Dostoevsky',\n",
       " 'Gogol',\n",
       " 'Bulychev',\n",
       " 'King',\n",
       " 'Akunin',\n",
       " 'Remark',\n",
       " 'Pratchett',\n",
       " 'Pratchett',\n",
       " 'Bulychev',\n",
       " 'Akunin',\n",
       " 'Pratchett',\n",
       " 'Akunin',\n",
       " 'Bulychev',\n",
       " 'King',\n",
       " 'Chehov',\n",
       " 'Bulychev',\n",
       " 'Bulychev',\n",
       " 'King',\n",
       " 'Remark',\n",
       " 'King',\n",
       " 'Akunin',\n",
       " 'Bulychev',\n",
       " 'King',\n",
       " 'Chehov',\n",
       " 'Chehov',\n",
       " 'Bulychev',\n",
       " 'King',\n",
       " 'Gogol',\n",
       " 'Pratchett',\n",
       " 'Pratchett',\n",
       " 'Pratchett',\n",
       " 'Akunin',\n",
       " 'Pratchett',\n",
       " 'Akunin',\n",
       " 'Akunin',\n",
       " 'Chehov',\n",
       " 'Gogol',\n",
       " 'Chehov',\n",
       " 'Bulychev',\n",
       " 'Pratchett',\n",
       " 'Akunin',\n",
       " 'Bulychev',\n",
       " 'Akunin',\n",
       " 'King',\n",
       " 'Pratchett',\n",
       " 'Remark',\n",
       " 'Akunin',\n",
       " 'Remark',\n",
       " 'King',\n",
       " 'Bulychev',\n",
       " 'Bulychev',\n",
       " 'Bulychev',\n",
       " 'Akunin',\n",
       " 'Pratchett',\n",
       " 'Akunin',\n",
       " 'Akunin',\n",
       " 'Chehov',\n",
       " 'Gogol',\n",
       " 'Bulychev',\n",
       " 'Bulychev',\n",
       " 'King',\n",
       " 'Dostoevsky',\n",
       " 'Pratchett',\n",
       " 'Akunin',\n",
       " 'Bulychev',\n",
       " 'Bulychev',\n",
       " 'Akunin',\n",
       " 'Dostoevsky',\n",
       " 'Pratchett',\n",
       " 'King',\n",
       " 'Bulychev',\n",
       " 'Bulychev',\n",
       " 'Remark',\n",
       " 'Dostoevsky',\n",
       " 'Pratchett',\n",
       " 'Akunin',\n",
       " 'Pratchett',\n",
       " 'King',\n",
       " 'Akunin',\n",
       " 'King',\n",
       " 'Gogol',\n",
       " 'King',\n",
       " 'Akunin',\n",
       " 'Akunin',\n",
       " 'Akunin',\n",
       " 'Gogol',\n",
       " 'Chehov',\n",
       " 'Pratchett',\n",
       " 'Chehov',\n",
       " 'Akunin',\n",
       " 'King',\n",
       " 'Akunin',\n",
       " 'Akunin',\n",
       " 'Akunin',\n",
       " 'Gogol',\n",
       " 'Remark',\n",
       " 'Chehov',\n",
       " 'Akunin',\n",
       " 'Bulychev',\n",
       " 'Akunin',\n",
       " 'Remark',\n",
       " 'Pratchett',\n",
       " 'Akunin',\n",
       " 'Akunin',\n",
       " 'Chehov',\n",
       " 'Gogol',\n",
       " 'Chehov',\n",
       " 'King',\n",
       " 'King',\n",
       " 'Pratchett',\n",
       " 'Akunin',\n",
       " 'Gogol',\n",
       " 'Chehov',\n",
       " 'Bulychev',\n",
       " 'Chehov',\n",
       " 'King',\n",
       " 'Chehov',\n",
       " 'Chehov',\n",
       " 'Akunin',\n",
       " 'Pratchett',\n",
       " 'King',\n",
       " 'King',\n",
       " 'Bulychev',\n",
       " 'Akunin',\n",
       " 'Akunin',\n",
       " 'Akunin',\n",
       " 'Akunin',\n",
       " 'King',\n",
       " 'Bulychev',\n",
       " 'Bulychev',\n",
       " 'King',\n",
       " 'Bulychev',\n",
       " 'King',\n",
       " 'Pratchett',\n",
       " 'Akunin',\n",
       " 'King',\n",
       " 'Akunin',\n",
       " 'King',\n",
       " 'Akunin',\n",
       " 'King',\n",
       " 'Pratchett',\n",
       " 'Dostoevsky',\n",
       " 'Dostoevsky',\n",
       " 'Bulychev',\n",
       " 'Pratchett',\n",
       " 'King',\n",
       " 'Pratchett',\n",
       " 'King',\n",
       " 'Akunin',\n",
       " 'Dostoevsky',\n",
       " 'Gogol',\n",
       " 'Bulychev',\n",
       " 'Pratchett',\n",
       " 'Akunin',\n",
       " 'Pratchett',\n",
       " 'Gogol',\n",
       " 'Chehov',\n",
       " 'Chehov',\n",
       " 'Bulychev',\n",
       " 'Chehov',\n",
       " 'Akunin',\n",
       " 'Akunin',\n",
       " 'Akunin',\n",
       " 'Pratchett',\n",
       " 'Akunin',\n",
       " 'Bulychev',\n",
       " 'King',\n",
       " 'Akunin',\n",
       " 'Bulychev',\n",
       " 'Bulychev',\n",
       " 'Remark',\n",
       " 'Chehov',\n",
       " 'Bulychev',\n",
       " 'Chehov',\n",
       " 'King',\n",
       " 'Bulychev',\n",
       " 'Bulychev',\n",
       " 'Akunin',\n",
       " 'Gogol',\n",
       " 'King',\n",
       " 'Akunin',\n",
       " 'Pratchett',\n",
       " 'Bulychev',\n",
       " 'King',\n",
       " 'King',\n",
       " 'King',\n",
       " 'Akunin',\n",
       " 'Akunin',\n",
       " 'Pratchett',\n",
       " 'Chehov',\n",
       " 'Bulychev',\n",
       " 'Dostoevsky',\n",
       " 'Pratchett',\n",
       " 'Pratchett',\n",
       " 'Bulychev',\n",
       " 'King',\n",
       " 'Akunin',\n",
       " 'Pratchett',\n",
       " 'Bulychev',\n",
       " 'Akunin',\n",
       " 'Chehov',\n",
       " 'Pratchett',\n",
       " 'Dostoevsky',\n",
       " 'Remark',\n",
       " 'King',\n",
       " 'King',\n",
       " 'Akunin',\n",
       " 'Akunin',\n",
       " 'Chehov',\n",
       " 'Akunin',\n",
       " 'Pratchett',\n",
       " 'Dostoevsky',\n",
       " 'Chehov',\n",
       " 'Akunin',\n",
       " 'Chehov',\n",
       " 'Pratchett',\n",
       " 'Remark',\n",
       " 'Akunin',\n",
       " 'Bulychev',\n",
       " 'Pratchett',\n",
       " 'Remark',\n",
       " 'Chehov',\n",
       " 'Chehov',\n",
       " 'Akunin',\n",
       " 'Gogol',\n",
       " 'Gogol',\n",
       " 'Bulychev',\n",
       " 'King',\n",
       " 'Chehov',\n",
       " 'Akunin',\n",
       " 'Chehov',\n",
       " 'Bulychev',\n",
       " 'Chehov',\n",
       " 'Dostoevsky',\n",
       " 'King',\n",
       " 'Akunin',\n",
       " 'King',\n",
       " 'King',\n",
       " 'Bulychev',\n",
       " 'Pratchett',\n",
       " 'Pratchett',\n",
       " 'Pratchett',\n",
       " 'King',\n",
       " 'King',\n",
       " 'Pratchett',\n",
       " 'Pratchett',\n",
       " 'Gogol',\n",
       " 'Pratchett',\n",
       " 'Akunin',\n",
       " 'King',\n",
       " 'Akunin',\n",
       " 'Bulychev',\n",
       " 'Akunin',\n",
       " 'Remark',\n",
       " 'Remark',\n",
       " 'Chehov',\n",
       " 'Akunin',\n",
       " 'Pratchett',\n",
       " 'Chehov',\n",
       " 'King',\n",
       " 'Chehov',\n",
       " 'Gogol',\n",
       " 'Dostoevsky',\n",
       " 'Chehov',\n",
       " 'Pratchett',\n",
       " 'Pratchett',\n",
       " 'Chehov',\n",
       " 'Chehov',\n",
       " 'Pratchett',\n",
       " 'King',\n",
       " ...]"
      ]
     },
     "execution_count": 27,
     "metadata": {},
     "output_type": "execute_result"
    }
   ],
   "source": [
    "predictions = get_predictions(model, test_dataloader)\n",
    "predictions = [label_to_writers[x] for x in predictions]\n",
    "predictions"
   ]
  }
 ],
 "metadata": {
  "kernelspec": {
   "display_name": "Python 3",
   "language": "python",
   "name": "python3"
  },
  "language_info": {
   "codemirror_mode": {
    "name": "ipython",
    "version": 3
   },
   "file_extension": ".py",
   "mimetype": "text/x-python",
   "name": "python",
   "nbconvert_exporter": "python",
   "pygments_lexer": "ipython3",
   "version": "3.8.5"
  }
 },
 "nbformat": 4,
 "nbformat_minor": 4
}
